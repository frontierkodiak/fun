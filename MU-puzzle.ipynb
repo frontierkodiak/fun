{
 "cells": [
  {
   "attachments": {},
   "cell_type": "markdown",
   "metadata": {},
   "source": [
    "Thinking through some solvers for Hofstader's MU puzzle (GEB). Complementing my manual search with a programmatic one.\n",
    "\n",
    "Objective: MI -> MU\n",
    "\n",
    "**Rule 1** if last letter I : append U allowed.\n",
    "**Rule 2** if Mx : Mxx allowed.\n",
    "**Rule 3** if III : III -> U allowed.\n",
    "**Rule 4** if UU : UU -> _ allowed (deletion).\n",
    "\n",
    "These rules constrain possible updates, but are not necessary.\n",
    "\n",
    "Let S\n",
    "\n",
    "Let M = 0, I = 1, & U = 2.\n",
    "\n",
    "Let $S_{0}$ = \\begin{pmatrix}1\\cr2\\cr\\end{pmatrix} and Let $S_{f}$ = \\begin{pmatrix}1\\cr3\\cr\\end{pmatrix}\n",
    "\n",
    "If S[n][-1] = 1\n",
    " [Finish rules.]\n",
    "\n",
    "[Consider "
   ]
  },
  {
   "cell_type": "code",
   "execution_count": null,
   "metadata": {},
   "outputs": [],
   "source": [
    "S_initial = \"MI\"\n",
    "S_final = \"MU\"\n",
    "\n",
    "# Collection of all 'earned' states\n",
    "S_collection = []"
   ]
  },
  {
   "attachments": {},
   "cell_type": "markdown",
   "metadata": {},
   "source": [
    "Starting with a simple expanding-horizon brute force solver."
   ]
  },
  {
   "cell_type": "code",
   "execution_count": null,
   "metadata": {},
   "outputs": [],
   "source": [
    "horizon = 5"
   ]
  }
 ],
 "metadata": {
  "language_info": {
   "name": "python"
  },
  "orig_nbformat": 4
 },
 "nbformat": 4,
 "nbformat_minor": 2
}
